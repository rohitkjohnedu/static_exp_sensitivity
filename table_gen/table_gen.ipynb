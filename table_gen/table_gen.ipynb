{
 "cells": [
  {
   "cell_type": "markdown",
   "metadata": {},
   "source": [
    "# To generate the table"
   ]
  },
  {
   "cell_type": "markdown",
   "metadata": {},
   "source": [
    "## Import modules"
   ]
  },
  {
   "cell_type": "code",
   "execution_count": 9,
   "metadata": {},
   "outputs": [
    {
     "data": {
      "text/html": [
       "<pre style=\"white-space:pre;overflow-x:auto;line-height:normal;font-family:Menlo,'DejaVu Sans Mono',consolas,'Courier New',monospace\"><span style=\"color: #008080; text-decoration-color: #008080; font-weight: bold\">10</span>\n",
       "</pre>\n"
      ],
      "text/plain": [
       "\u001b[1;36m10\u001b[0m\n"
      ]
     },
     "metadata": {},
     "output_type": "display_data"
    }
   ],
   "source": [
    "try:\n",
    "    print(x)\n",
    "\n",
    "except:\n",
    "    x = 10\n",
    "    import pandas as pd\n",
    "    import numpy as np\n",
    "    import json\n",
    "    from rich import print\n",
    "    "
   ]
  },
  {
   "cell_type": "markdown",
   "metadata": {},
   "source": [
    "## Read exp IDs\n",
    "Read the table with experiment IDs and pos"
   ]
  },
  {
   "cell_type": "code",
   "execution_count": 10,
   "metadata": {},
   "outputs": [],
   "source": [
    "# Dataframe which stores the detail of the experiment\n",
    "# details = {ID, x_pos, z_pos, ori}\n",
    "exp_df = pd.read_csv(\"exp_details.csv\")\n",
    "\n",
    "exp_id_modified = [] # Need to add two '\n",
    "\n",
    "for idx, id in enumerate(exp_df['Wedge_name']):\n",
    "    exp_id_modified.append(\"'\" + str(id) + \"'\")\n",
    "\n",
    "# adding to data frame\n",
    "exp_df['Wedge_name'] = exp_id_modified"
   ]
  },
  {
   "cell_type": "markdown",
   "metadata": {},
   "source": [
    "## Generate parameter statistics"
   ]
  },
  {
   "cell_type": "code",
   "execution_count": 11,
   "metadata": {},
   "outputs": [],
   "source": [
    "# The brush parameter data. These parameters will be varie to get the sensitivity\n",
    "brush_parameter_mean_SD = {\n",
    "    'young':{\n",
    "        'mean':2.7e6,\n",
    "        'SD':1.1e6\n",
    "    },\n",
    "    'brush_friction':{\n",
    "        'mean':44,\n",
    "        'SD':2\n",
    "    },\n",
    "    'print_frction':{\n",
    "        'mean':24,\n",
    "        'SD':2\n",
    "    },\n",
    "    'radius_diff':{\n",
    "        'mean':0.0,\n",
    "        'SD':0.1e-3\n",
    "    }\n",
    "}"
   ]
  },
  {
   "cell_type": "markdown",
   "metadata": {},
   "source": [
    "## Generate sensitivity variation"
   ]
  },
  {
   "cell_type": "code",
   "execution_count": 12,
   "metadata": {},
   "outputs": [],
   "source": [
    "number_variation    = 17 # has to be odd so that mean is a the center\n",
    "positive_variations = (number_variation - 1)/2\n",
    "\n",
    "for key, val in brush_parameter_mean_SD.items():\n",
    "    sd   = val['SD']\n",
    "    mean = val['mean'] \n",
    "\n",
    "    spacing   = np.linspace(0, sd, positive_variations + 1)\n",
    "    variation = set(list(mean + spacing) + list(mean - spacing))\n",
    "    variation.remove(mean)\n",
    "    variation = list(variation)\n",
    "    variation.sort()\n",
    "\n",
    "    brush_parameter_mean_SD[key][\"variation\"] = variation\n"
   ]
  },
  {
   "cell_type": "markdown",
   "metadata": {},
   "source": [
    "## Generate sensitivity table\n",
    "Generate the whole table for the sensitivity simulation"
   ]
  },
  {
   "cell_type": "code",
   "execution_count": 13,
   "metadata": {},
   "outputs": [],
   "source": [
    "sensitivity_table_df = pd.DataFrame()\n",
    "\n",
    "# loop though all experiments\n",
    "for idx, exp in exp_df.iterrows():\n",
    "    # copy vales from exp_df \n",
    "    exp_dict_def = dict(exp)\n",
    "\n",
    "    # write the default value\n",
    "    for key, val in brush_parameter_mean_SD.items():\n",
    "        exp_dict_def[key] = val['mean']\n",
    "\n",
    "    sensitivity_table_df = sensitivity_table_df.append(exp_dict_def, ignore_index = True)\n",
    "    \n",
    "    # loop through all the parameters that are varied\n",
    "    for key, val in brush_parameter_mean_SD.items(): \n",
    "        exp_dict = exp_dict_def\n",
    "\n",
    "        # loop through all values of the parameter to change the correct default value\n",
    "        for var_value in brush_parameter_mean_SD[key][\"variation\"]:            \n",
    "                 \n",
    "            for def_key, def_val in brush_parameter_mean_SD.items():\n",
    "                # Assign the default value  which will be changed next\n",
    "                exp_dict[def_key] = def_val['mean']\n",
    "                exp_dict[key] = var_value\n",
    "            \n",
    "            sensitivity_table_df = sensitivity_table_df.append(exp_dict, ignore_index = True)"
   ]
  },
  {
   "cell_type": "markdown",
   "metadata": {},
   "source": [
    "## Converting data frame into a list of string\n",
    "Each member of a string is a line in the .table file"
   ]
  },
  {
   "cell_type": "code",
   "execution_count": 14,
   "metadata": {},
   "outputs": [],
   "source": [
    "# getting the column names\n",
    "col_names = list(sensitivity_table_df.keys())\n",
    "\n",
    "col_names_str = \"ID\"\n",
    "for name in col_names:\n",
    "    col_names_str = col_names_str + \" \" + name\n",
    "\n",
    "sensitivity_table_string = []\n",
    "\n",
    "# Looping through all rows\n",
    "for idx, row in sensitivity_table_df.iterrows():\n",
    "    sim_str = str(idx)\n",
    "\n",
    "    for name in col_names:\n",
    "        sim_str = sim_str + \" \" + str(row[name])\n",
    "\n",
    "    sensitivity_table_string.append(sim_str)"
   ]
  },
  {
   "cell_type": "markdown",
   "metadata": {},
   "source": [
    "## Split the table\n",
    "Split the table so that it can be run in mutliple machines"
   ]
  },
  {
   "cell_type": "code",
   "execution_count": 15,
   "metadata": {},
   "outputs": [],
   "source": [
    "from math import *\n",
    "\n",
    "number_cores = 4\n",
    "hours = 8\n",
    "run_per_hrs       = 1\n",
    "number_run_per_VM = number_cores * hours * run_per_hrs\n",
    "number_runs = len(sensitivity_table_string)\n",
    "number_VMs  = ceil(number_runs / number_run_per_VM)\n",
    "\n",
    "run_id_idx = 0\n",
    "runs_left  = number_runs\n",
    "\n",
    "# Writing many parameter table each with a limited number\n",
    "# of rows\n",
    "for VM in range(number_VMs):\n",
    "    with open('VM_ID_' + str(VM) + '_parametric.table', \"w\") as file:\n",
    "\n",
    "        # writing the column names\n",
    "        file.write(col_names_str)\n",
    "        file.write(\"\\n\")\n",
    "\n",
    "\n",
    "        no_runs_in_VM = number_run_per_VM if runs_left > number_run_per_VM else runs_left\n",
    "        for run in range(no_runs_in_VM):\n",
    "            file.write(sensitivity_table_string[run_id_idx])\n",
    "            file.write(\"\\n\")\n",
    "            run_id_idx += 1\n",
    "\n",
    "\n",
    "        runs_left = runs_left - number_run_per_VM\n",
    "\n",
    "with open('parameter.table', 'w') as file:\n",
    "    # Writing the column names\n",
    "    file.write(col_names_str)\n",
    "    file.write(\"\\n\")\n",
    "\n",
    "    # Writing each rows\n",
    "    for string in sensitivity_table_string:\n",
    "         file.write(string)\n",
    "         file.write(\"\\n\")"
   ]
  },
  {
   "cell_type": "markdown",
   "metadata": {},
   "source": [
    "## Predicted number of sims"
   ]
  },
  {
   "cell_type": "code",
   "execution_count": 16,
   "metadata": {},
   "outputs": [
    {
     "data": {
      "text/html": [
       "<pre style=\"white-space:pre;overflow-x:auto;line-height:normal;font-family:Menlo,'DejaVu Sans Mono',consolas,'Courier New',monospace\"><span style=\"color: #008080; text-decoration-color: #008080; font-weight: bold\">0</span>\n",
       "</pre>\n"
      ],
      "text/plain": [
       "\u001b[1;36m0\u001b[0m\n"
      ]
     },
     "metadata": {},
     "output_type": "display_data"
    }
   ],
   "source": [
    "number_exps        = len(exp_df)\n",
    "number_varied_ppts = len(brush_parameter_mean_SD)\n",
    "\n",
    "number_predicted   = number_exps * (1 + (number_variation - 1)*number_varied_ppts)\n",
    "print(number_predicted - len(sensitivity_table_string))"
   ]
  }
 ],
 "metadata": {
  "interpreter": {
   "hash": "916dbcbb3f70747c44a77c7bcd40155683ae19c65e1c03b4aa3499c5328201f1"
  },
  "kernelspec": {
   "display_name": "Python 3.8.10 64-bit",
   "name": "python3"
  },
  "language_info": {
   "codemirror_mode": {
    "name": "ipython",
    "version": 3
   },
   "file_extension": ".py",
   "mimetype": "text/x-python",
   "name": "python",
   "nbconvert_exporter": "python",
   "pygments_lexer": "ipython3",
   "version": "3.8.10"
  },
  "orig_nbformat": 4
 },
 "nbformat": 4,
 "nbformat_minor": 2
}
